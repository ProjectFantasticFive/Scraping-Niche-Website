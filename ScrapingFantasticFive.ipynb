{
 "cells": [
  {
   "cell_type": "code",
   "execution_count": 57,
   "metadata": {},
   "outputs": [],
   "source": [
    "import json\n",
    "from selenium import webdriver\n",
    "from selenium.common.exceptions import NoSuchElementException\n",
    "from selenium.common.exceptions import ElementNotVisibleException"
   ]
  },
  {
   "cell_type": "code",
   "execution_count": 58,
   "metadata": {},
   "outputs": [],
   "source": [
    "url = \"http://nuansamusik.com/category/acoustic-guitars\""
   ]
  },
  {
   "cell_type": "code",
   "execution_count": 59,
   "metadata": {},
   "outputs": [],
   "source": [
    "driver = webdriver.PhantomJS()"
   ]
  },
  {
   "cell_type": "code",
   "execution_count": 60,
   "metadata": {},
   "outputs": [],
   "source": [
    "driver.implicitly_wait(10)"
   ]
  },
  {
   "cell_type": "code",
   "execution_count": 61,
   "metadata": {},
   "outputs": [],
   "source": [
    "driver.get(url)"
   ]
  },
  {
   "cell_type": "code",
   "execution_count": 62,
   "metadata": {},
   "outputs": [
    {
     "name": "stdout",
     "output_type": "stream",
     "text": [
      "http://nuansamusik.com/category/acoustic-guitars\n"
     ]
    }
   ],
   "source": [
    "print(driver.current_url)"
   ]
  },
  {
   "cell_type": "code",
   "execution_count": 63,
   "metadata": {},
   "outputs": [
    {
     "name": "stdout",
     "output_type": "stream",
     "text": [
      "DBM CASE Elektrik\n",
      "  Rp. 570.000\n",
      "Add to cart\n",
      "Yamaha GL1 Acoustic Guitar\n",
      "List price Rp. 830.000\n",
      "Rp. 664.000\n",
      "Add to cart\n",
      "Yamaha CGS102A Acoustic Guitar\n",
      "List price Rp. 1.080.000\n",
      "Rp. 864.000\n",
      "Add to cart\n",
      "Yamaha JR1 Acoustic Guitar\n",
      "List price Rp. 1.130.000\n",
      "Rp. 904.000\n",
      "Add to cart\n",
      "Yamaha CS40 Acoustic Guitar\n",
      "List price Rp. 1.240.000\n",
      "Rp. 992.000\n",
      "Add to cart\n",
      "Yamaha C370 W/C Acoustic Guitar\n",
      "  Rp. 1.240.000\n",
      "Add to cart\n",
      "Yamaha F310 Acoustic Guitar\n",
      "List price Rp. 1.240.000\n",
      "Rp. 992.000\n",
      "Add to cart\n",
      "Yamaha F310 TBS Acoustic Guitar\n",
      "List price Rp. 1.240.000\n",
      "Rp. 992.000\n",
      "Add to cart\n",
      "Yamaha C330 A W/C Acoustic Guitar\n",
      "List price Rp. 1.360.000\n",
      "Rp. 1.088.000\n",
      "Add to cart\n",
      "Yamaha C40 Acoustic Guitar\n",
      "List price Rp. 1.360.000\n",
      "Rp. 1.088.000\n",
      "Add to cart\n",
      "Yamaha F310 P Acoustic Guitar\n",
      "List price Rp. 1.520.000\n",
      "Rp. 1.216.000\n",
      "Add to cart\n",
      "Yamaha FS100C Acoustic Guitar\n",
      "List price Rp. 1.520.000\n",
      "Rp. 1.216.000\n",
      "Add to cart\n",
      "Yamaha C390 Acoustic Guitar\n",
      "List price Rp. 1.790.000\n",
      "Rp. 1.432.000\n",
      "Add to cart\n",
      "Yamaha C80 Acoustic Guitar\n",
      "List price Rp. 1.980.000\n",
      "Rp. 1.584.000\n",
      "Add to cart\n",
      "Yamaha FSX315C Acoustic Electric Guitar\n",
      "List price Rp. 2.490.000\n",
      "Rp. 1.992.000\n",
      "Add to cart\n",
      "LR Baggs Element Active System for Nylon ...\n",
      "List price Rp. 2.750.000\n",
      "Rp. 2.200.000\n",
      "Add to cart\n",
      "CORDOBA Coco MINI SP/MH\n",
      "List price Rp. 3.270.000\n",
      "Rp. 2.616.000\n",
      "Add to cart\n",
      "Cordoba Protege C1 W/B\n",
      "List price Rp. 3.370.000\n",
      "Rp. 2.696.000\n",
      "Add to cart\n",
      "Vynn's GA01 CE-SP Acoustic Electric Guita...\n",
      "  Rp. 3.490.000\n",
      "Add to cart\n",
      "Yamaha CPX600 Acoustic Electric Guitar\n",
      "List price Rp. 3.550.000\n",
      "Rp. 2.840.000\n",
      "Add to cart\n"
     ]
    }
   ],
   "source": [
    "for product in driver.find_elements_by_class_name('product-list'):\n",
    "    if product.text != '':\n",
    "        print(product.text)"
   ]
  },
  {
   "cell_type": "code",
   "execution_count": 64,
   "metadata": {},
   "outputs": [],
   "source": [
    "product12 = []\n",
    "index1 = ''"
   ]
  },
  {
   "cell_type": "code",
   "execution_count": 65,
   "metadata": {},
   "outputs": [],
   "source": [
    "for num in driver.find_elements_by_class_name('pagination'):\n",
    "    for num1 in num.find_elements_by_class_name('page'):\n",
    "        index1 = num1"
   ]
  },
  {
   "cell_type": "code",
   "execution_count": 66,
   "metadata": {},
   "outputs": [],
   "source": [
    "for i in range(0, int(index1.text)):\n",
    "    for listofproducts in driver.find_elements_by_class_name('panes'):\n",
    "        for li in listofproducts.find_elements_by_tag_name('li'):\n",
    "            name = li.find_element_by_tag_name('h4').text\n",
    "            list_price = li.find_element_by_class_name('list-price').text\n",
    "            price = li.find_element_by_class_name('price').text\n",
    "            img_url = li.find_element_by_tag_name('img').get_attribute('src')\n",
    "            product12.append(\n",
    "            {'Name': name,\n",
    "             'List Price': list_price,\n",
    "             'Price': price,\n",
    "             'Image Url': img_url,\n",
    "            })\n",
    "        try:\n",
    "            driver.find_element_by_class_name('next').click()\n",
    "        except NoSuchElementException as e:\n",
    "            break;\n",
    "        except ElementNotVisibleException:\n",
    "            break;"
   ]
  },
  {
   "cell_type": "code",
   "execution_count": 67,
   "metadata": {},
   "outputs": [
    {
     "data": {
      "text/plain": [
       "[{'Name': 'DBM CASE Elektrik',\n",
       "  'List Price': ' ',\n",
       "  'Price': 'Rp. 570.000',\n",
       "  'Image Url': 'http://nuansamusik.com/media/thumbs/uploads/WhatsApp%20Image%202018-07-18%20at%2015.36.11-1531904057..jpeg.115x115_q85.jpg'},\n",
       " {'Name': 'Yamaha GL1 Acoustic Guitar',\n",
       "  'List Price': 'List price Rp. 830.000',\n",
       "  'Price': 'Rp. 664.000',\n",
       "  'Image Url': 'http://nuansamusik.com/media/thumbs/uploads/yamaha_gl1_acoustic_guitar.jpg.115x115_q85.jpg'},\n",
       " {'Name': 'Yamaha CGS102A Acoustic Guitar',\n",
       "  'List Price': 'List price Rp. 1.080.000',\n",
       "  'Price': 'Rp. 864.000',\n",
       "  'Image Url': 'http://nuansamusik.com/media/thumbs/uploads/yamaha_cgs102_acoustic_guitar.jpg.115x115_q85.jpg'},\n",
       " {'Name': 'Yamaha JR1 Acoustic Guitar',\n",
       "  'List Price': 'List price Rp. 1.130.000',\n",
       "  'Price': 'Rp. 904.000',\n",
       "  'Image Url': 'http://nuansamusik.com/media/thumbs/uploads/yamaha_jr1_acoustic_guitar.jpg.115x115_q85.jpg'},\n",
       " {'Name': 'Yamaha CS40 Acoustic Guitar',\n",
       "  'List Price': 'List price Rp. 1.240.000',\n",
       "  'Price': 'Rp. 992.000',\n",
       "  'Image Url': 'http://nuansamusik.com/media/thumbs/uploads/yamaha_cs40_acoustic_guitar.jpg.115x115_q85.jpg'},\n",
       " {'Name': 'Yamaha C370 W/C Acoustic Guitar',\n",
       "  'List Price': ' ',\n",
       "  'Price': 'Rp. 1.240.000',\n",
       "  'Image Url': 'http://nuansamusik.com/media/thumbs/uploads/yamaha_c370_acoustic_guitar.jpg.115x115_q85.jpg'},\n",
       " {'Name': 'Yamaha F310 Acoustic Guitar',\n",
       "  'List Price': 'List price Rp. 1.240.000',\n",
       "  'Price': 'Rp. 992.000',\n",
       "  'Image Url': 'http://nuansamusik.com/media/thumbs/uploads/yamaha_f310_acoustic_guitar.jpg.115x115_q85.jpg'},\n",
       " {'Name': 'Yamaha F310 TBS Acoustic Guitar',\n",
       "  'List Price': 'List price Rp. 1.240.000',\n",
       "  'Price': 'Rp. 992.000',\n",
       "  'Image Url': 'http://nuansamusik.com/media/thumbs/uploads/yamaha_f310tbs_acoustic_guitar.jpg.115x115_q85.jpg'},\n",
       " {'Name': 'Yamaha C330 A W/C Acoustic Guitar',\n",
       "  'List Price': 'List price Rp. 1.360.000',\n",
       "  'Price': 'Rp. 1.088.000',\n",
       "  'Image Url': 'http://nuansamusik.com/media/thumbs/uploads/yamaha_c330a_acoustic_guitar.jpg.115x115_q85.jpg'},\n",
       " {'Name': 'Yamaha C40 Acoustic Guitar',\n",
       "  'List Price': 'List price Rp. 1.360.000',\n",
       "  'Price': 'Rp. 1.088.000',\n",
       "  'Image Url': 'http://nuansamusik.com/media/thumbs/uploads/yamaha_c40_acoustic_guitar.jpg.115x115_q85.jpg'},\n",
       " {'Name': 'Yamaha F310 P Acoustic Guitar',\n",
       "  'List Price': 'List price Rp. 1.520.000',\n",
       "  'Price': 'Rp. 1.216.000',\n",
       "  'Image Url': 'http://nuansamusik.com/media/thumbs/uploads/yamaha_f310p_acoustic_guitar.jpg.115x115_q85.jpg'},\n",
       " {'Name': 'Yamaha FS100C Acoustic Guitar',\n",
       "  'List Price': 'List price Rp. 1.520.000',\n",
       "  'Price': 'Rp. 1.216.000',\n",
       "  'Image Url': 'http://nuansamusik.com/media/thumbs/uploads/FS100CNAT-1516158163..jpg.115x115_q85.jpg'},\n",
       " {'Name': 'Yamaha C390 Acoustic Guitar',\n",
       "  'List Price': 'List price Rp. 1.790.000',\n",
       "  'Price': 'Rp. 1.432.000',\n",
       "  'Image Url': 'http://nuansamusik.com/media/thumbs/uploads/yamaha_c390_acoustic_guitar.jpg.115x115_q85.jpg'},\n",
       " {'Name': 'Yamaha C80 Acoustic Guitar',\n",
       "  'List Price': 'List price Rp. 1.980.000',\n",
       "  'Price': 'Rp. 1.584.000',\n",
       "  'Image Url': 'http://nuansamusik.com/media/thumbs/uploads/yamaha_c80_acoustic_guitar.jpg.115x115_q85.jpg'},\n",
       " {'Name': 'Yamaha FSX315C Acoustic Electric Guitar',\n",
       "  'List Price': 'List price Rp. 2.490.000',\n",
       "  'Price': 'Rp. 1.992.000',\n",
       "  'Image Url': 'http://nuansamusik.com/media/thumbs/uploads/yamaha-fsx315nat-1516158718..jpg.115x115_q85.jpg'},\n",
       " {'Name': 'LR Baggs Element Active System for Nylon ...',\n",
       "  'List Price': 'List price Rp. 2.750.000',\n",
       "  'Price': 'Rp. 2.200.000',\n",
       "  'Image Url': ''},\n",
       " {'Name': 'CORDOBA Coco MINI SP/MH',\n",
       "  'List Price': 'List price Rp. 3.270.000',\n",
       "  'Price': 'Rp. 2.616.000',\n",
       "  'Image Url': 'http://nuansamusik.com/media/thumbs/uploads/COCO%20MINI%20SP-1540454950..jpg.115x115_q85.jpg'},\n",
       " {'Name': 'Cordoba Protege C1 W/B',\n",
       "  'List Price': 'List price Rp. 3.370.000',\n",
       "  'Price': 'Rp. 2.696.000',\n",
       "  'Image Url': 'http://nuansamusik.com/media/thumbs/uploads/C1_Main-1576659694..png.115x115_q85.png'},\n",
       " {'Name': \"Vynn's GA01 CE-SP Acoustic Electric Guita...\",\n",
       "  'List Price': ' ',\n",
       "  'Price': 'Rp. 3.490.000',\n",
       "  'Image Url': 'http://nuansamusik.com/media/thumbs/uploads/SKU%20WEB%201-1581056540..png.115x115_q85.jpg'},\n",
       " {'Name': 'Yamaha CPX600 Acoustic Electric Guitar',\n",
       "  'List Price': 'List price Rp. 3.550.000',\n",
       "  'Price': 'Rp. 2.840.000',\n",
       "  'Image Url': 'http://nuansamusik.com/media/thumbs/uploads/CPX600_black_a_0001-306x768%20(1)-1512535130..jpg.115x115_q85.jpg'},\n",
       " {'Name': 'Cordoba Protégé CP 100',\n",
       "  'List Price': 'List price Rp. 3.670.000',\n",
       "  'Price': 'Rp. 2.936.000',\n",
       "  'Image Url': 'http://nuansamusik.com/media/thumbs/uploads/cp100-1576752639..jpg.115x115_q85.jpg'},\n",
       " {'Name': \"Vynn's OM02 E-MH Acoustic Electric Guitar...\",\n",
       "  'List Price': ' ',\n",
       "  'Price': 'Rp. 3.790.000',\n",
       "  'Image Url': 'http://nuansamusik.com/media/thumbs/uploads/SKU%20WEB%202-1581056597..png.115x115_q85.jpg'},\n",
       " {'Name': 'Cordoba Mini II MH',\n",
       "  'List Price': 'List price Rp. 3.800.000',\n",
       "  'Price': 'Rp. 3.040.000',\n",
       "  'Image Url': 'http://nuansamusik.com/media/thumbs/uploads/cordoma%20mini%20II%20MH%20MH-1562733178..jpg.115x115_q85.jpg'},\n",
       " {'Name': 'Cort Earth Grand F-OP Acoustic Guitars',\n",
       "  'List Price': 'List price Rp. 3.890.000',\n",
       "  'Price': 'Rp. 3.112.000',\n",
       "  'Image Url': 'http://nuansamusik.com/media/thumbs/uploads/Cort%20Earth%20Grand%20F-OP-1372751935..jpg.115x115_q85.png'},\n",
       " {'Name': 'Cort Earth Mini Adirondack',\n",
       "  'List Price': 'List price Rp. 4.390.000',\n",
       "  'Price': 'Rp. 3.512.000',\n",
       "  'Image Url': 'http://nuansamusik.com/media/thumbs/uploads/Erath-Mini-F-Adirondack(OP)1-1469447919..png.115x115_q85.png'},\n",
       " {'Name': 'Cordoba Mini II EB CE',\n",
       "  'List Price': 'List price Rp. 5.310.000',\n",
       "  'Price': 'Rp. 4.248.000',\n",
       "  'Image Url': 'http://nuansamusik.com/media/thumbs/uploads/cordoba%20mini%20II%20EBCE-1562746186..jpg.115x115_q85.jpg'},\n",
       " {'Name': 'Cordoba C5 Limited',\n",
       "  'List Price': 'List price Rp. 5.770.000',\n",
       "  'Price': 'Rp. 4.616.000',\n",
       "  'Image Url': 'http://nuansamusik.com/media/thumbs/uploads/C5%20Lmt_new-1576657840..jpg.115x115_q85.jpg'},\n",
       " {'Name': 'Cordoba C4-CE',\n",
       "  'List Price': 'List price Rp. 6.240.000',\n",
       "  'Price': 'Rp. 4.992.000',\n",
       "  'Image Url': 'http://nuansamusik.com/media/thumbs/uploads/C4-CE-1576656726..png.115x115_q85.png'},\n",
       " {'Name': 'Cordoba C5-CE SP',\n",
       "  'List Price': 'List price Rp. 7.630.000',\n",
       "  'Price': 'Rp. 6.104.000',\n",
       "  'Image Url': 'http://nuansamusik.com/media/thumbs/uploads/C5-1576723616..png.115x115_q85.png'},\n",
       " {'Name': 'Cordoba C12',\n",
       "  'List Price': 'List price Rp. 35.290.000',\n",
       "  'Price': 'Rp. 28.232.000',\n",
       "  'Image Url': 'http://nuansamusik.com/media/thumbs/uploads/c12%20new-1576658930..png.115x115_q85.png'}]"
      ]
     },
     "execution_count": 67,
     "metadata": {},
     "output_type": "execute_result"
    }
   ],
   "source": [
    "product12"
   ]
  },
  {
   "cell_type": "code",
   "execution_count": 68,
   "metadata": {},
   "outputs": [],
   "source": [
    "f=open('ScrapingFantasticFive.json','w')\n",
    "json.dump(product12,f)\n",
    "f.close()"
   ]
  },
  {
   "cell_type": "code",
   "execution_count": null,
   "metadata": {},
   "outputs": [],
   "source": []
  }
 ],
 "metadata": {
  "kernelspec": {
   "display_name": "Python 3",
   "language": "python",
   "name": "python3"
  },
  "language_info": {
   "codemirror_mode": {
    "name": "ipython",
    "version": 3
   },
   "file_extension": ".py",
   "mimetype": "text/x-python",
   "name": "python",
   "nbconvert_exporter": "python",
   "pygments_lexer": "ipython3",
   "version": "3.8.0"
  }
 },
 "nbformat": 4,
 "nbformat_minor": 4
}
